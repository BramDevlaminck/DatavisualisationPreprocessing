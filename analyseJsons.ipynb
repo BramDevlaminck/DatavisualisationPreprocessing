{
 "cells": [
  {
   "cell_type": "code",
   "execution_count": 23,
   "metadata": {
    "collapsed": true
   },
   "outputs": [],
   "source": [
    "import pandas as pd"
   ]
  },
  {
   "cell_type": "code",
   "execution_count": 24,
   "outputs": [],
   "source": [
    "df = pd.read_json('Datasets/criminaliteitscijfers-per-wijk-per-maand-gent-2022.json')"
   ],
   "metadata": {
    "collapsed": false
   }
  },
  {
   "cell_type": "code",
   "execution_count": 25,
   "outputs": [
    {
     "name": "stdout",
     "output_type": "stream",
     "text": [
      "Autodiefstal, 67\n",
      "Beschadiging aan auto, 881\n",
      "Bromfietsdiefstal, 126\n",
      "Diefstal gewapenderhand, 48\n",
      "Diefstal met geweld zonder wapen, 311\n",
      "Diefstal uit of aan voertuigen, 871\n",
      "Fietsdiefstal, 4516\n",
      "Geluidshinder, 597\n",
      "Graffiti, 134\n",
      "Inbraak in bedrijf of handelszaak, 151\n",
      "Motordiefstal, 11\n",
      "Parkeerovertredingen, 25645\n",
      "Sluikstorten, 935\n",
      "Verkeerongevallen met lichamelijk letsel, 0\n",
      "Woninginbraak, 950\n",
      "Zakkenrollerij, 808\n"
     ]
    }
   ],
   "source": [
    "categories = df.fact_category\n",
    "summary: dict[str, int] = {}\n",
    "\n",
    "for i, cat in enumerate(categories):\n",
    "    summary[cat] = summary.get(cat, 0) + df.total[i]\n",
    "\n",
    "for key, val in summary.items():\n",
    "    print(f\"{key}, {val}\")"
   ],
   "metadata": {
    "collapsed": false
   }
  },
  {
   "cell_type": "code",
   "execution_count": null,
   "outputs": [],
   "source": [],
   "metadata": {
    "collapsed": false
   }
  }
 ],
 "metadata": {
  "kernelspec": {
   "display_name": "Python 3",
   "language": "python",
   "name": "python3"
  },
  "language_info": {
   "codemirror_mode": {
    "name": "ipython",
    "version": 2
   },
   "file_extension": ".py",
   "mimetype": "text/x-python",
   "name": "python",
   "nbconvert_exporter": "python",
   "pygments_lexer": "ipython2",
   "version": "2.7.6"
  }
 },
 "nbformat": 4,
 "nbformat_minor": 0
}
